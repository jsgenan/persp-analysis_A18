{
 "cells": [
  {
   "cell_type": "markdown",
   "metadata": {},
   "source": [
    "## Question 1\n",
    "### Problem 1"
   ]
  },
  {
   "cell_type": "code",
   "execution_count": 5,
   "metadata": {},
   "outputs": [],
   "source": [
    "import pytest\n",
    "\n",
    "def smallest_factor(n):\n",
    "    \"\"\"Return the smallest prime factor of the positive integer n.\"\"\"\n",
    "    if n == 1:\n",
    "        return 1\n",
    "    for i in range(2, int(n**.5)):\n",
    "    #should be range(2, int(n**.5)+1)\n",
    "        if n % i == 0:\n",
    "            return i\n",
    "    return n\n",
    "\n",
    "def test_one():\n",
    "    assert smallest_factor(1)==1\n",
    "def test_two():\n",
    "    assert smallest_factor(4)==2\n",
    "def test_three():\n",
    "    assert smallest_factor(6)==2\n",
    "def test_four():\n",
    "    assert smallest_factor(99)==3"
   ]
  },
  {
   "cell_type": "markdown",
   "metadata": {},
   "source": [
    "The correct function is:"
   ]
  },
  {
   "cell_type": "code",
   "execution_count": null,
   "metadata": {},
   "outputs": [],
   "source": [
    "def smallest_factor(n):\n",
    "    \"\"\"Return the smallest prime factor of the positive integer n.\"\"\"\n",
    "    if n == 1:\n",
    "        return 1\n",
    "    for i in range(2, int(n**.5)+1):\n",
    "        if n % i == 0:\n",
    "            return i\n",
    "    return n"
   ]
  },
  {
   "cell_type": "markdown",
   "metadata": {},
   "source": [
    "Test one covers cases when the upper bound of the range is smaller than 2. Test two and three cover cases when the upper bound of the range equals 2. These two cases failed. Test three covers cases where the upper bound is greater than 2. Pytest coverage is 100%."
   ]
  },
  {
   "cell_type": "markdown",
   "metadata": {},
   "source": [
    "I installed the [pytest-html plugin](https://pypi.org/project/pytest-html/) and reported all pytest results in  _report.html_ file. "
   ]
  },
  {
   "cell_type": "markdown",
   "metadata": {},
   "source": [
    "### Problem 2"
   ]
  },
  {
   "cell_type": "code",
   "execution_count": 4,
   "metadata": {},
   "outputs": [],
   "source": [
    "import pytest\n",
    "\n",
    "def month_length(month, leap_year=False):\n",
    "    \"\"\"Return the number of days in the given month.\"\"\"\n",
    "    if month in {\"September\", \"April\", \"June\", \"November\"}:\n",
    "        return 30\n",
    "    elif month in {\"January\", \"March\", \"May\", \"July\",\n",
    "                    \"August\", \"October\", \"December\"}:\n",
    "        return 31\n",
    "    if month == \"February\":\n",
    "        if not leap_year:\n",
    "            return 28\n",
    "        else:\n",
    "            return 29\n",
    "    else:\n",
    "        return None\n",
    "\n",
    "def test_monthlength():\n",
    "    assert month_length('January')==31\n",
    "    assert month_length('March')==31\n",
    "    assert month_length('May')==31\n",
    "    assert month_length('July')==31\n",
    "    assert month_length('August')==31\n",
    "    assert month_length('October')==31\n",
    "    assert month_length('December')==31\n",
    "    assert month_length('September')==30\n",
    "    assert month_length('April')==30\n",
    "    assert month_length('June')==30\n",
    "    assert month_length('November')==30\n",
    "    assert month_length('February', leap_year=False)==28\n",
    "    assert month_length('February', leap_year=True)==29\n",
    "    assert month_length('Summer')==None"
   ]
  },
  {
   "cell_type": "markdown",
   "metadata": {},
   "source": [
    "Test cases covers all the possible inputs of _month_ and _leap year_. All cases passed test. Coverage is 100%."
   ]
  },
  {
   "cell_type": "markdown",
   "metadata": {},
   "source": [
    "### Problem 3"
   ]
  },
  {
   "cell_type": "code",
   "execution_count": null,
   "metadata": {},
   "outputs": [],
   "source": [
    "import pytest\n",
    "\n",
    "def operate(a, b, oper):\n",
    "    \"\"\"Apply an arithmetic operation to a and b.\"\"\"\n",
    "    if type(oper) is not str:\n",
    "        raise TypeError(\"oper must be a string\")\n",
    "    elif oper == '+':\n",
    "        return a + b\n",
    "    elif oper == '-':\n",
    "        return a - b\n",
    "    elif oper == '*':\n",
    "        return a * b\n",
    "    elif oper == '/':\n",
    "        if b == 0:\n",
    "            raise ZeroDivisionError(\"division by zero is undefined\")\n",
    "        return a / b\n",
    "    raise ValueError(\"oper must be one of '+', '/', '-', or '*'\")\n",
    "\n",
    "def test_operator():\n",
    "    assert operate(4, 2, '+')==6\n",
    "    assert operate(4, 2, '-')==2\n",
    "    assert operate(4, 2, '*')==8\n",
    "    assert operate(4, 2, '/')==2\n",
    "    assert operate(5, 4, '/')==1.25\n",
    "    with pytest.raises(TypeError) as excinfo1:\n",
    "        operate(4, 2, 0)\n",
    "    assert excinfo1.value.args[0] == 'oper must be a string'\n",
    "    with pytest.raises(ZeroDivisionError) as excinfo2:\n",
    "        operate(2, 0, '/')\n",
    "    assert excinfo2.value.args[0] == 'division by zero is undefined'\n",
    "    with pytest.raises(ValueError) as excinfo3:\n",
    "        operate(4, 2, '^')\n",
    "    assert excinfo3.value.args[0] == \"oper must be one of '+', '/', '-', or '*'\""
   ]
  },
  {
   "cell_type": "markdown",
   "metadata": {},
   "source": [
    "Test cases cover all the operators and all the pre-designed errors. All cases passed test. Coverage is 100%."
   ]
  },
  {
   "cell_type": "markdown",
   "metadata": {},
   "source": [
    "## Question 2"
   ]
  },
  {
   "cell_type": "code",
   "execution_count": 1,
   "metadata": {},
   "outputs": [],
   "source": [
    "import numpy as np\n",
    "\n",
    "def get_r(K, L, alpha, Z, delta):\n",
    "    '''\n",
    "    This function generates the interest rate or vector of interest rates\n",
    "    '''\n",
    "    r = np.subtract(np.multiply(np.multiply(alpha, Z), np.power(np.divide(L, K), 1-alpha)), delta)\n",
    "    return r\n"
   ]
  },
  {
   "cell_type": "markdown",
   "metadata": {},
   "source": [
    "All cases passed test. Pytest coverage is 100%. Detailed report is written in _report.html_."
   ]
  }
 ],
 "metadata": {
  "kernelspec": {
   "display_name": "Python 3",
   "language": "python",
   "name": "python3"
  },
  "language_info": {
   "codemirror_mode": {
    "name": "ipython",
    "version": 3
   },
   "file_extension": ".py",
   "mimetype": "text/x-python",
   "name": "python",
   "nbconvert_exporter": "python",
   "pygments_lexer": "ipython3",
   "version": "3.6.4"
  }
 },
 "nbformat": 4,
 "nbformat_minor": 2
}
